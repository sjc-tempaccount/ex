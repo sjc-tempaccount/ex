{
 "cells": [
  {
   "cell_type": "markdown",
   "id": "afc1873d",
   "metadata": {},
   "source": [
    "The client end of the socket example"
   ]
  },
  {
   "cell_type": "code",
   "execution_count": 1,
   "id": "f33f41bf",
   "metadata": {},
   "outputs": [
    {
     "name": "stdout",
     "output_type": "stream",
     "text": [
      "Received REPLY: Hello, world\n"
     ]
    }
   ],
   "source": [
    "# echo-client.py\n",
    "\n",
    "import socket\n",
    "\n",
    "HOST = \"127.0.0.1\"  # The server's hostname or IP address\n",
    "PORT = 65500  # The port used by the server\n",
    "\n",
    "with socket.socket(socket.AF_INET, socket.SOCK_STREAM) as s:\n",
    "    s.connect((HOST, PORT))\n",
    "    s.sendall(b\"Hello, world\")\n",
    "    data = s.recv(1024)\n",
    "\n",
    "print(f\"Received {data.decode()}\")\n",
    "\n",
    "\n"
   ]
  },
  {
   "cell_type": "code",
   "execution_count": null,
   "id": "8f49311f",
   "metadata": {},
   "outputs": [],
   "source": [
    "# echo-client.py\n",
    "\n",
    "import socket\n",
    "\n",
    "HOST = \"127.0.0.1\"  # The server's hostname or IP address\n",
    "PORT = 65501  # The port used by the server\n",
    "\n",
    "for i in range(20):\n",
    "    messages = []\n",
    "\n",
    "    with socket.socket(socket.AF_INET, socket.SOCK_STREAM) as s:\n",
    "        s.connect((HOST, PORT))\n",
    "        m = f\"Message {i}\"\n",
    "        s.sendall(m.encode())\n",
    "        data = s.recv(1024)\n",
    "\n",
    "\n",
    "    print(f\"Received {data.decode()}\")"
   ]
  }
 ],
 "metadata": {
  "kernelspec": {
   "display_name": "Python 3",
   "language": "python",
   "name": "python3"
  },
  "language_info": {
   "codemirror_mode": {
    "name": "ipython",
    "version": 3
   },
   "file_extension": ".py",
   "mimetype": "text/x-python",
   "name": "python",
   "nbconvert_exporter": "python",
   "pygments_lexer": "ipython3",
   "version": "3.8.8"
  }
 },
 "nbformat": 4,
 "nbformat_minor": 5
}
