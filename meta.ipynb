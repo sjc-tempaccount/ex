{
 "cells": [
  {
   "cell_type": "markdown",
   "id": "3a7cc5ef",
   "metadata": {},
   "source": [
    "Ways to define a class"
   ]
  },
  {
   "cell_type": "code",
   "execution_count": 1,
   "id": "fd3d8cb4",
   "metadata": {},
   "outputs": [
    {
     "data": {
      "text/plain": [
       "<__main__.MyClass at 0x219b8749a60>"
      ]
     },
     "execution_count": 1,
     "metadata": {},
     "output_type": "execute_result"
    }
   ],
   "source": [
    "# Using type\n",
    "\n",
    "MyClass = type('MyClass', (), {})\n",
    "x = MyClass()\n",
    "x\n",
    "\n",
    "\n"
   ]
  },
  {
   "cell_type": "code",
   "execution_count": 2,
   "id": "9ef30b40",
   "metadata": {},
   "outputs": [
    {
     "data": {
      "text/plain": [
       "<__main__.MyClass at 0x219b8749ac0>"
      ]
     },
     "execution_count": 2,
     "metadata": {},
     "output_type": "execute_result"
    }
   ],
   "source": [
    "# Using class (more usual)\n",
    "class MyClass:\n",
    "    pass\n",
    "\n",
    "x = MyClass()\n",
    "x\n",
    "\n"
   ]
  },
  {
   "cell_type": "code",
   "execution_count": 3,
   "id": "c496d99d",
   "metadata": {},
   "outputs": [
    {
     "name": "stdout",
     "output_type": "stream",
     "text": [
      "test <class '__main__.MySubClass'> (<class '__main__.MyClass'>,)\n"
     ]
    }
   ],
   "source": [
    "MySubClass = type('MySubClass', (MyClass,), dict(afield=\"test\"))\n",
    "\n",
    "x = MySubClass()\n",
    "print(x.afield, x.__class__, x.__class__.__bases__)\n"
   ]
  },
  {
   "cell_type": "code",
   "execution_count": 5,
   "id": "bcfe923f",
   "metadata": {},
   "outputs": [
    {
     "name": "stdout",
     "output_type": "stream",
     "text": [
      "test <class '__main__.MySubClass'> (<class '__main__.MyClass'>,)\n"
     ]
    }
   ],
   "source": [
    "class MySubClass(MyClass):\n",
    "    afield = \"test\"\n",
    "    \n",
    "x = MySubClass()\n",
    "print(x.afield, x.__class__, x.__class__.__bases__)    "
   ]
  },
  {
   "cell_type": "code",
   "execution_count": 6,
   "id": "4114af0b",
   "metadata": {},
   "outputs": [
    {
     "data": {
      "text/plain": [
       "252"
      ]
     },
     "execution_count": 6,
     "metadata": {},
     "output_type": "execute_result"
    }
   ],
   "source": [
    "# You can add functions both ways \n",
    "def myfn(obj, num):\n",
    "    return obj.var * num\n",
    "\n",
    "MyClass = type(\n",
    "    'MyClass',\n",
    "    (),\n",
    "    {\n",
    "        'var': 42,\n",
    "        'fn': myfn\n",
    "    }\n",
    ")\n",
    "\n",
    "x = MyClass()\n",
    "x.var\n",
    "\n",
    "x.fn(6)"
   ]
  },
  {
   "cell_type": "code",
   "execution_count": null,
   "id": "6ede7c15",
   "metadata": {},
   "outputs": [],
   "source": [
    "class MyClass(): \n",
    "    \"\"\"\n",
    "    Normal class definition\n",
    "    \"\"\" \n",
    "    def __init__(self):\n",
    "        self.var = 42\n",
    "            \n",
    "    def fn(self, num):\n",
    "        return self.var * num            \n",
    "    \n",
    "\n",
    "\n",
    "x = MyClass()\n",
    "x.var\n",
    "\n",
    "x.fn(6)"
   ]
  },
  {
   "cell_type": "code",
   "execution_count": 7,
   "id": "e8cfb394",
   "metadata": {},
   "outputs": [
    {
     "data": {
      "text/plain": [
       "'TEST'"
      ]
     },
     "execution_count": 7,
     "metadata": {},
     "output_type": "execute_result"
    }
   ],
   "source": [
    "# Adding __call_ for something makes it callable\n",
    "class MyStr(str):\n",
    "    \n",
    "    def __call__(self, num):\n",
    "        return self.upper()\n",
    "    \n",
    "a = MyStr(\"test\")    \n",
    "a(3)"
   ]
  },
  {
   "cell_type": "code",
   "execution_count": null,
   "id": "3a4051e0",
   "metadata": {},
   "outputs": [],
   "source": []
  }
 ],
 "metadata": {
  "kernelspec": {
   "display_name": "Python 3",
   "language": "python",
   "name": "python3"
  },
  "language_info": {
   "codemirror_mode": {
    "name": "ipython",
    "version": 3
   },
   "file_extension": ".py",
   "mimetype": "text/x-python",
   "name": "python",
   "nbconvert_exporter": "python",
   "pygments_lexer": "ipython3",
   "version": "3.8.8"
  }
 },
 "nbformat": 4,
 "nbformat_minor": 5
}
