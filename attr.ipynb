{
 "cells": [
  {
   "cell_type": "markdown",
   "id": "5e9f6140",
   "metadata": {},
   "source": [
    "Attributes, get and set"
   ]
  },
  {
   "cell_type": "code",
   "execution_count": null,
   "id": "83ba2e0f",
   "metadata": {},
   "outputs": [],
   "source": []
  },
  {
   "cell_type": "code",
   "execution_count": 8,
   "id": "a0dc3c86",
   "metadata": {},
   "outputs": [
    {
     "data": {
      "text/plain": [
       "4"
      ]
     },
     "execution_count": 8,
     "metadata": {},
     "output_type": "execute_result"
    }
   ],
   "source": [
    "class A():\n",
    "    \n",
    "    def test(self, var):\n",
    "        self.var = var\n",
    "        \n",
    "a = A()  \n",
    "a.test(4)\n",
    "a.__dict__\n",
    "\n",
    "getattr(a,'var')\n"
   ]
  },
  {
   "cell_type": "code",
   "execution_count": 21,
   "id": "d819ebc3",
   "metadata": {},
   "outputs": [
    {
     "data": {
      "text/plain": [
       "{'var': 6, 'z': 4, 'h': 'wer'}"
      ]
     },
     "execution_count": 21,
     "metadata": {},
     "output_type": "execute_result"
    }
   ],
   "source": [
    "setattr(a,'var', 6)\n",
    "a.__dict__\n",
    "a.__setattr__('z',4)\n",
    "a.__dict__\n",
    "a.__dict__['h'] = 'wer'\n",
    "a.__dict__"
   ]
  },
  {
   "cell_type": "code",
   "execution_count": 22,
   "id": "ab9149b4",
   "metadata": {},
   "outputs": [
    {
     "ename": "TypeError",
     "evalue": "'mappingproxy' object does not support item assignment",
     "output_type": "error",
     "traceback": [
      "\u001b[1;31m---------------------------------------------------------------------------\u001b[0m",
      "\u001b[1;31mTypeError\u001b[0m                                 Traceback (most recent call last)",
      "\u001b[1;32m<ipython-input-22-e731e94a21d6>\u001b[0m in \u001b[0;36m<module>\u001b[1;34m\u001b[0m\n\u001b[0;32m      2\u001b[0m \u001b[0mx\u001b[0m \u001b[1;33m=\u001b[0m \u001b[1;34m\"abc\"\u001b[0m\u001b[1;33m\u001b[0m\u001b[1;33m\u001b[0m\u001b[0m\n\u001b[0;32m      3\u001b[0m \u001b[0mstr\u001b[0m\u001b[1;33m.\u001b[0m\u001b[0m__dict__\u001b[0m \u001b[1;31m#mappingproxy means can't add new values\u001b[0m\u001b[1;33m\u001b[0m\u001b[1;33m\u001b[0m\u001b[0m\n\u001b[1;32m----> 4\u001b[1;33m \u001b[0mstr\u001b[0m\u001b[1;33m.\u001b[0m\u001b[0m__dict__\u001b[0m\u001b[1;33m[\u001b[0m\u001b[1;34m'o'\u001b[0m\u001b[1;33m]\u001b[0m \u001b[1;33m=\u001b[0m \u001b[1;36m8\u001b[0m\u001b[1;33m\u001b[0m\u001b[1;33m\u001b[0m\u001b[0m\n\u001b[0m",
      "\u001b[1;31mTypeError\u001b[0m: 'mappingproxy' object does not support item assignment"
     ]
    }
   ],
   "source": [
    "# What about a built in class?\n",
    "x = \"abc\"\n",
    "str.__dict__ #mappingproxy means can't add new values\n",
    "#str.__dict__['o'] = 8"
   ]
  },
  {
   "cell_type": "code",
   "execution_count": null,
   "id": "f89b621f",
   "metadata": {},
   "outputs": [],
   "source": [
    "# __getattr__ called if attribute not found and you can delegate"
   ]
  },
  {
   "cell_type": "code",
   "execution_count": 1,
   "id": "fbe57bae",
   "metadata": {},
   "outputs": [
    {
     "name": "stdout",
     "output_type": "stream",
     "text": [
      "HERE2!\n"
     ]
    },
    {
     "data": {
      "text/plain": [
       "5"
      ]
     },
     "execution_count": 1,
     "metadata": {},
     "output_type": "execute_result"
    }
   ],
   "source": [
    "class A():\n",
    "    \n",
    "    def test(self, var):\n",
    "        self.var = var\n",
    "        \n",
    "    def __getattr__(self):\n",
    "        print(\"HERE!\")\n",
    "        \n",
    "    def __setattr__(self, name, value):\n",
    "        print(\"HERE2!\") \n",
    "        #super().__setattr__(name, value)\n",
    "        setattr(self, name, value)\n",
    "        \n",
    "    def __enter__(self):\n",
    "        print(\"Starting context\")\n",
    "        \n",
    "        \n",
    "    def __exit__(self, exception_type, exception_value, exception_traceback):\n",
    "        print(\"Leaving context\")        \n",
    "        \n",
    "        \n",
    "a = A()\n",
    "a.var = 5\n",
    "a.var\n",
    "\n",
    "        "
   ]
  },
  {
   "cell_type": "code",
   "execution_count": 2,
   "id": "3c879cf0",
   "metadata": {},
   "outputs": [
    {
     "name": "stdout",
     "output_type": "stream",
     "text": [
      "Starting context\n",
      "Leaving context\n"
     ]
    }
   ],
   "source": [
    "with a as b:\n",
    "    pass"
   ]
  },
  {
   "cell_type": "code",
   "execution_count": null,
   "id": "20dc1c4f",
   "metadata": {},
   "outputs": [],
   "source": [
    "\n",
    "https://www.w3schools.com/python/trypython.asp?filename=demo_ref_setattr\n",
    "class Person:\n",
    "  name = \"John\"\n",
    "  age = 36\n",
    "  country = \"Norway\"\n",
    "\n",
    "setattr(Person, 'age', 40)"
   ]
  },
  {
   "cell_type": "code",
   "execution_count": null,
   "id": "bdfccb5d",
   "metadata": {},
   "outputs": [],
   "source": [
    "# "
   ]
  }
 ],
 "metadata": {
  "kernelspec": {
   "display_name": "Python 3",
   "language": "python",
   "name": "python3"
  },
  "language_info": {
   "codemirror_mode": {
    "name": "ipython",
    "version": 3
   },
   "file_extension": ".py",
   "mimetype": "text/x-python",
   "name": "python",
   "nbconvert_exporter": "python",
   "pygments_lexer": "ipython3",
   "version": "3.8.8"
  }
 },
 "nbformat": 4,
 "nbformat_minor": 5
}
