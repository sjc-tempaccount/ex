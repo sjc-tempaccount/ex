{
 "cells": [
  {
   "cell_type": "markdown",
   "id": "12dca5ce",
   "metadata": {},
   "source": [
    "### Receive json data and use it"
   ]
  },
  {
   "cell_type": "code",
   "execution_count": 3,
   "id": "22407ad3",
   "metadata": {},
   "outputs": [
    {
     "name": "stdout",
     "output_type": "stream",
     "text": [
      "<class 'list'> <class 'dict'>\n",
      "{'id': 'avon-and-somerset', 'name': 'Avon and Somerset Constabulary'}\n",
      "Number of forces = 44\n"
     ]
    }
   ],
   "source": [
    "#Using the example, get data on stop and search in Swindon for a month \n",
    "# in 2001 and analyse to compare genders or age groups\n",
    "import urllib.request\n",
    "import json\n",
    "\n",
    "police_url = r'https://data.police.uk/api/forces'\n",
    "\n",
    "with urllib.request.urlopen(police_url) as f:\n",
    "    data = f.read().decode('utf-8')\n",
    "    \n",
    "data_decoded = json.loads(data)  \n",
    "print(type(data_decoded), type(data_decoded[0]))\n",
    "print(data_decoded[0])\n",
    "print(f\"Number of forces = {len(data_decoded)}\")\n"
   ]
  },
  {
   "cell_type": "markdown",
   "id": "624f0319",
   "metadata": {},
   "source": [
    "\n"
   ]
  },
  {
   "cell_type": "code",
   "execution_count": 5,
   "id": "c7ddfbd3",
   "metadata": {},
   "outputs": [
    {
     "data": {
      "text/plain": [
       "Counter({'25-34': 3, '10-17': 2, '18-24': 4, 'over 34': 2})"
      ]
     },
     "execution_count": 5,
     "metadata": {},
     "output_type": "execute_result"
    }
   ],
   "source": [
    "import urllib.request\n",
    "import json\n",
    "from collections import Counter\n",
    "\n",
    "#https://data.police.uk/api/stops-street?lat=52.629729&lng=-1.131592&date=2018-06\n",
    "Swindon_lat = 51.577652\n",
    "Swindon_long = -1.766212\n",
    "police_url = rf'https://data.police.uk/api/stops-street?lat={Swindon_lat}&lng={Swindon_long}&date=2021-06'\n",
    "\n",
    "with urllib.request.urlopen(police_url) as f:\n",
    "    data = f.read().decode('utf-8')\n",
    "    \n",
    "stops = json.loads(data)  \n",
    "type(stops), type(stops[0])\n",
    "#print(data_decoded[0])\n",
    "\n",
    "ages = [rec['age_range'] for rec in stops]\n",
    "Counter(ages)\n",
    "\n"
   ]
  }
 ],
 "metadata": {
  "kernelspec": {
   "display_name": "Python 3",
   "language": "python",
   "name": "python3"
  },
  "language_info": {
   "codemirror_mode": {
    "name": "ipython",
    "version": 3
   },
   "file_extension": ".py",
   "mimetype": "text/x-python",
   "name": "python",
   "nbconvert_exporter": "python",
   "pygments_lexer": "ipython3",
   "version": "3.8.8"
  }
 },
 "nbformat": 4,
 "nbformat_minor": 5
}
