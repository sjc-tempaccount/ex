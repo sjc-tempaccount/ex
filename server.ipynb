{
 "cells": [
  {
   "cell_type": "markdown",
   "id": "ea03f0d2",
   "metadata": {},
   "source": [
    "## Python Sockets\n",
    "* Sockets and the socket API are used to communicate across a network. \n",
    "* The most common socket applications are client-server applications, where the server waits for connections from clients.\n",
    "* https://docs.python.org/3/library/socket.html\n"
   ]
  },
  {
   "cell_type": "markdown",
   "id": "7f35ecc5",
   "metadata": {},
   "source": [
    "### Some methods\n",
    "socket()\n",
    ".bind()\n",
    ".listen()\n",
    ".accept()\n",
    ".connect()\n",
    ".connect_ex()\n",
    ".send()\n",
    ".recv()\n",
    ".close()"
   ]
  },
  {
   "cell_type": "code",
   "execution_count": 1,
   "id": "7a9817b6",
   "metadata": {},
   "outputs": [
    {
     "name": "stdout",
     "output_type": "stream",
     "text": [
      "Connection from ('127.0.0.1', 61235)\n"
     ]
    }
   ],
   "source": [
    "# echo-server.py\n",
    "\n",
    "import socket\n",
    "\n",
    "HOST = \"127.0.0.1\"  # Standard loopback interface address (localhost)\n",
    "PORT = 65500  # Port to listen on (non-privileged ports are > 1023)\n",
    "\n",
    "with socket.socket(socket.AF_INET, socket.SOCK_STREAM) as s:\n",
    "    s.bind((HOST, PORT))\n",
    "    s.listen()    \n",
    "    \n",
    "    conn, addr = s.accept()\n",
    "    with conn:\n",
    "        print(f\"Connection from {addr}\")\n",
    "        while True:\n",
    "            # receive the message (bytes)\n",
    "            data = conn.recv(1024)\n",
    "            if not data:\n",
    "                break\n",
    "            conn.sendall(b'REPLY: '+data)"
   ]
  },
  {
   "cell_type": "markdown",
   "id": "7281670f",
   "metadata": {},
   "source": [
    "* This just gets one message and exits. \n",
    "* There are ways to listen for lots of connections, threads, asyncio and select (the oldest)\n",
    "* https://docs.python.org/3/library/selectors.html?highlight=selectors#module-selectors"
   ]
  },
  {
   "cell_type": "code",
   "execution_count": null,
   "id": "cd18d718",
   "metadata": {},
   "outputs": [],
   "source": [
    "import socket\n",
    "import time\n",
    "\n",
    "HOST = \"127.0.0.1\"  # Standard loopback interface address (localhost)\n",
    "PORT = 65501  # Port to listen on (non-privileged ports are > 1023)\n",
    "\n",
    "with socket.socket(socket.AF_INET, socket.SOCK_STREAM) as s:\n",
    "    s.bind((HOST, PORT))\n",
    "    s.listen()\n",
    "    \n",
    "    while True:\n",
    "        conn, addr = s.accept()\n",
    "        with conn:\n",
    "            print(f\"Connection from {addr}\")\n",
    "            while True:\n",
    "                # receive the message (bytes)\n",
    "                data = conn.recv(1024)\n",
    "                if not data:\n",
    "                    break\n",
    "                conn.sendall(b'REPLY 2 : '+data)\n",
    "        time.sleep(1)      "
   ]
  }
 ],
 "metadata": {
  "kernelspec": {
   "display_name": "Python 3",
   "language": "python",
   "name": "python3"
  },
  "language_info": {
   "codemirror_mode": {
    "name": "ipython",
    "version": 3
   },
   "file_extension": ".py",
   "mimetype": "text/x-python",
   "name": "python",
   "nbconvert_exporter": "python",
   "pygments_lexer": "ipython3",
   "version": "3.8.8"
  }
 },
 "nbformat": 4,
 "nbformat_minor": 5
}
