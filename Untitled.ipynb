{
 "cells": [
  {
   "cell_type": "markdown",
   "id": "ea6056ab",
   "metadata": {},
   "source": [
    "shutils and psutil"
   ]
  },
  {
   "cell_type": "code",
   "execution_count": null,
   "id": "d89d4aaf",
   "metadata": {
    "scrolled": true
   },
   "outputs": [],
   "source": [
    "#!pip install psutil\n",
    "!pip uninstall shutils\n"
   ]
  },
  {
   "cell_type": "code",
   "execution_count": null,
   "id": "330bc837",
   "metadata": {},
   "outputs": [],
   "source": [
    "import shutil\n",
    "shutil."
   ]
  }
 ],
 "metadata": {
  "kernelspec": {
   "display_name": "Python 3",
   "language": "python",
   "name": "python3"
  },
  "language_info": {
   "codemirror_mode": {
    "name": "ipython",
    "version": 3
   },
   "file_extension": ".py",
   "mimetype": "text/x-python",
   "name": "python",
   "nbconvert_exporter": "python",
   "pygments_lexer": "ipython3",
   "version": "3.8.8"
  }
 },
 "nbformat": 4,
 "nbformat_minor": 5
}
