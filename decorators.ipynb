{
 "cells": [
  {
   "cell_type": "code",
   "execution_count": 3,
   "id": "0f8329cc",
   "metadata": {},
   "outputs": [
    {
     "name": "stdout",
     "output_type": "stream",
     "text": [
      "Finished waiter in 5012499200.00 nanosecs\n",
      "Finished calculate in 6244000.00 nanosecs\n"
     ]
    },
    {
     "data": {
      "text/plain": [
       "[249500250000, 249500250000, 249500250000, 249500250000, 249500250000]"
      ]
     },
     "execution_count": 3,
     "metadata": {},
     "output_type": "execute_result"
    }
   ],
   "source": [
    "import functools\n",
    "import time\n",
    "\n",
    "def timer(func):\n",
    "    \"\"\"Time the decorated function\"\"\"\n",
    "    @functools.wraps(func)\n",
    "    def wrapper(*args, **kwargs):\n",
    "        start_time = time.perf_counter_ns()    \n",
    "        value = func(*args, **kwargs)\n",
    "        end_time = time.perf_counter_ns()      \n",
    "        run_time = end_time - start_time   \n",
    "        print(f\"Finished {func.__name__} in {run_time:.2f} nanosecs\")\n",
    "        return value\n",
    "    return wrapper\n",
    "\n",
    "@timer\n",
    "def waiter(num):\n",
    "    time.sleep(num)\n",
    "\n",
    "\n",
    "@timer\n",
    "def calculate(num):\n",
    "    results = []\n",
    "    for _ in range(num):\n",
    "        results.append(sum([i**3 for i in range(1000)]))\n",
    "    return results    \n",
    "        \n",
    "        \n",
    "        \n",
    "waiter(5)  \n",
    "calculate(5)"
   ]
  },
  {
   "cell_type": "code",
   "execution_count": 2,
   "id": "5f9b9553",
   "metadata": {},
   "outputs": [],
   "source": [
    "# Python logging module - logging levels and setup\n",
    "# https://docs.python.org/3/library/logging.html\n",
    "\n",
    "import logging\n",
    "logging.basicConfig(filename='logs.txt', format='%(asctime)s:%(levelname)s:%(message)s', level=logging.DEBUG)\n",
    "\n",
    "# try logging some messages\n",
    "logging.debug('A debug message')\n",
    "logging.info('For info')\n",
    "logging.warning('WARNING')\n",
    "logging.error('Errors')\n",
    "\n",
    "\n",
    "\n",
    "1\n",
    "# Python logging module - logging levels and setup\n",
    "2\n",
    "# https://docs.python.org/3/library/logging.html\n",
    "3\n",
    "​\n",
    "4\n",
    "import logging\n",
    "5\n",
    "logging.basicConfig(filename='logs.txt', format='%(asctime)s:%(levelname)s:%(message)s', level=logging.DEBUG)\n",
    "6\n",
    "​\n",
    "7\n",
    "# try logging some messages\n",
    "8\n",
    "logging.debug('A debug message')\n",
    "9\n",
    "logging.info('For info')\n",
    "10\n",
    "logging.warning('WARNING')\n",
    "11\n",
    "logging.error('Errors')\n",
    "12\n",
    "​\n",
    "13\n",
    "​\n",
    "14\n",
    "​"
   ]
  },
  {
   "cell_type": "markdown",
   "id": "739366d6",
   "metadata": {},
   "source": [
    "Write a logging decorator that logs the time a function starts and finishes\n",
    "Can you apply two decorators to the same function?"
   ]
  },
  {
   "cell_type": "code",
   "execution_count": 6,
   "id": "b6610d1b",
   "metadata": {},
   "outputs": [
    {
     "name": "stdout",
     "output_type": "stream",
     "text": [
      "Finished calculate in 2310600.00 nanosecs\n"
     ]
    },
    {
     "data": {
      "text/plain": [
       "[249500250000, 249500250000, 249500250000, 249500250000, 249500250000]"
      ]
     },
     "execution_count": 6,
     "metadata": {},
     "output_type": "execute_result"
    }
   ],
   "source": [
    "import logging\n",
    "import functools\n",
    "\n",
    "def my_logger(func):\n",
    "    \"\"\"Log the decorated function\"\"\"\n",
    "    @functools.wraps(func)\n",
    "    def wrapper(*args, **kwargs):\n",
    "        logging.info(f\"{func.__name__} started\")\n",
    "        value = func(*args, **kwargs)\n",
    "        logging.info(f\"{func.__name__} ended\")\n",
    "        return value\n",
    "    return wrapper\n",
    "\n",
    "\n",
    "@timer\n",
    "@my_logger\n",
    "\n",
    "def calculate(num):\n",
    "    results = []\n",
    "    for _ in range(num):\n",
    "        results.append(sum([i**3 for i in range(1000)]))\n",
    "    return results    \n",
    "        \n",
    "        \n",
    "        \n",
    "\n",
    "calculate(5)"
   ]
  },
  {
   "cell_type": "markdown",
   "id": "944ad3d9",
   "metadata": {},
   "source": [
    "If time, find out what the functools total_ordering class decorator does\n",
    "Can you use it with your bank account class to make a bank account equal to another if the balances are equal, less and so on?"
   ]
  },
  {
   "cell_type": "code",
   "execution_count": 14,
   "id": "53269dac",
   "metadata": {},
   "outputs": [],
   "source": [
    "from functools import total_ordering\n",
    "\n",
    "@total_ordering\n",
    "class BankAccount:\n",
    "    \"\"\" Simple BankAccount class \"\"\"\n",
    "\n",
    "    def __init__(self, balance=0):\n",
    "        \"\"\"Initialize account with balance\"\"\"\n",
    "        self.balance = balance\n",
    "    def __lt__(self, other):\n",
    "        return self.balance  < other.balance \n",
    "    def __eq__(self,other):\n",
    "        return self.balance == other.balance"
   ]
  },
  {
   "cell_type": "code",
   "execution_count": 15,
   "id": "49baab1d",
   "metadata": {},
   "outputs": [
    {
     "data": {
      "text/plain": [
       "False"
      ]
     },
     "execution_count": 15,
     "metadata": {},
     "output_type": "execute_result"
    }
   ],
   "source": [
    "a = BankAccount(9)\n",
    "b = BankAccount(11)\n",
    "a > b"
   ]
  }
 ],
 "metadata": {
  "kernelspec": {
   "display_name": "Python 3",
   "language": "python",
   "name": "python3"
  },
  "language_info": {
   "codemirror_mode": {
    "name": "ipython",
    "version": 3
   },
   "file_extension": ".py",
   "mimetype": "text/x-python",
   "name": "python",
   "nbconvert_exporter": "python",
   "pygments_lexer": "ipython3",
   "version": "3.8.8"
  }
 },
 "nbformat": 4,
 "nbformat_minor": 5
}
