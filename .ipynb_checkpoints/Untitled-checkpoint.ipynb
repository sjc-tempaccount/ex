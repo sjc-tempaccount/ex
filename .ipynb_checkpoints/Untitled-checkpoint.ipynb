{
 "cells": [
  {
   "cell_type": "markdown",
   "id": "08aa6d57",
   "metadata": {},
   "source": [
    "shutils and psutil"
   ]
  },
  {
   "cell_type": "code",
   "execution_count": 3,
   "id": "e7cec8e5",
   "metadata": {
    "scrolled": true
   },
   "outputs": [
    {
     "name": "stdout",
     "output_type": "stream",
     "text": [
      "Collecting shutils\n",
      "  Downloading shutils-0.1.0.tar.gz (2.3 kB)\n",
      "Collecting configparser\n",
      "  Downloading configparser-5.2.0-py3-none-any.whl (19 kB)\n",
      "Collecting pymysql\n",
      "  Downloading PyMySQL-1.0.2-py3-none-any.whl (43 kB)\n",
      "Building wheels for collected packages: shutils\n",
      "  Building wheel for shutils (setup.py): started\n",
      "  Building wheel for shutils (setup.py): finished with status 'done'\n",
      "  Created wheel for shutils: filename=shutils-0.1.0-py3-none-any.whl size=3519 sha256=dec1efb84602b96e12791cb42f99fb5192adef9aaf8308886d2b6fd30f623bea\n",
      "  Stored in directory: c:\\users\\sjcex\\appdata\\local\\pip\\cache\\wheels\\c7\\06\\1a\\4df9f03d511efd19a10f2086f67c38cf14757b555f4f24bd6e\n",
      "Successfully built shutils\n",
      "Installing collected packages: pymysql, configparser, shutils\n",
      "Successfully installed configparser-5.2.0 pymysql-1.0.2 shutils-0.1.0\n"
     ]
    }
   ],
   "source": [
    "#!pip install psutil\n",
    "!pip install shutils\n"
   ]
  },
  {
   "cell_type": "code",
   "execution_count": 4,
   "id": "6735c0b2",
   "metadata": {},
   "outputs": [],
   "source": [
    "import shutils\n"
   ]
  }
 ],
 "metadata": {
  "kernelspec": {
   "display_name": "Python 3",
   "language": "python",
   "name": "python3"
  },
  "language_info": {
   "codemirror_mode": {
    "name": "ipython",
    "version": 3
   },
   "file_extension": ".py",
   "mimetype": "text/x-python",
   "name": "python",
   "nbconvert_exporter": "python",
   "pygments_lexer": "ipython3",
   "version": "3.8.8"
  }
 },
 "nbformat": 4,
 "nbformat_minor": 5
}
