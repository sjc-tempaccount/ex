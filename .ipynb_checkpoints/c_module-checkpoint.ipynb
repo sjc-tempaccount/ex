{
 "cells": [
  {
   "cell_type": "markdown",
   "id": "64cfa374",
   "metadata": {},
   "source": [
    "## Larger C or C++ modules ... different method from ctypes\n",
    "Documentation https://docs.python.org/3/extending/extending.html\n",
    "\n",
    "* Begin by creating a file mymodule.c. \n",
    "* The first two lines of the file are\n",
    "* get the Python API \n",
    "\n",
    "1. #define PY_SSIZE_T_CLEAN (https://docs.python.org/3/c-api/arg.html#strings-and-buffers)\n",
    "1. #include <Python.h>"
   ]
  },
  {
   "cell_type": "markdown",
   "id": "87c5be4b",
   "metadata": {},
   "source": [
    "    static PyObject *\n",
    "    fn_system(PyObject *self, PyObject *args)\n",
    "    {\n",
    "        const char *command;\n",
    "        int sts;\n",
    "\n",
    "        if (!PyArg_ParseTuple(args, \"s\", &command))\n",
    "            return NULL;\n",
    "        sts = system(command);\n",
    "        return PyLong_FromLong(sts);\n",
    "    }\n",
    "    \n",
    "The C function always has two arguments, conventionally called self (module or object) and args (pointer to a Python tuple object containing the arguments)."
   ]
  },
  {
   "cell_type": "markdown",
   "id": "8e585267",
   "metadata": {},
   "source": [
    "The function PyArg_ParseTuple() in the Python API checks the argument types and converts them to C values. \n",
    "PyArg_ParseTuple() returns true (nonzero) if all arguments have the right type and its components have been stored in the variables whose addresses are passed. It returns false (zero) if an invalid argument list was passed, and raises an exception so the calling function can return NULL immediately .\n",
    "\n"
   ]
  },
  {
   "cell_type": "markdown",
   "id": "539d4c16",
   "metadata": {},
   "source": [
    "To call the function from Python we need to list its name and address in a method table:\n",
    "\n",
    "    static PyMethodDef MyMethods[] = {\n",
    "        ...\n",
    "        {\"system\",  fn_system, METH_VARARGS,\n",
    "         \"Execute a shell command.\"},\n",
    "        ...\n",
    "        {NULL, NULL, 0, NULL}        /* Sentinel */\n",
    "    };"
   ]
  },
  {
   "cell_type": "markdown",
   "id": "0a2ffe87",
   "metadata": {},
   "source": [
    "The module definition structure (referring to the method table)\n",
    "\n",
    "    static struct PyModuleDef mymodule = {\n",
    "        PyModuleDef_HEAD_INIT,\n",
    "        \"mymodule\",   /* name of module */\n",
    "         my_doc, /* module documentation, may be NULL */\n",
    "        -1,       /* size of per-interpreter state of the module,\n",
    "                     or -1 if the module keeps state in global variables. */\n",
    "        MyMethods\n",
    "    };"
   ]
  },
  {
   "cell_type": "markdown",
   "id": "35ccceda",
   "metadata": {},
   "source": [
    "Module initialisation\n",
    "\n",
    "        PyMODINIT_FUNC\n",
    "        PyInit_mymodule(void)\n",
    "        {\n",
    "            return PyModule_Create(&mymodule);\n",
    "        }"
   ]
  },
  {
   "cell_type": "markdown",
   "id": "2daff89a",
   "metadata": {},
   "source": [
    "    int main(int argc, char *argv[])\n",
    "    {\n",
    "        wchar_t *program = Py_DecodeLocale(argv[0], NULL);\n",
    "        if (program == NULL) {\n",
    "            fprintf(stderr, \"Fatal error: cannot decode argv[0]\\n\");\n",
    "            exit(1);\n",
    "        }\n",
    "\n",
    "        /* Add a built-in module, before Py_Initialize */\n",
    "        if (PyImport_AppendInittab(\"spam\", PyInit_mymodule) == -1) {\n",
    "            fprintf(stderr, \"Error: could not extend in-built modules table\\n\");\n",
    "            exit(1);\n",
    "        }\n",
    "\n",
    "        /* Pass argv[0] to the Python interpreter */\n",
    "        Py_SetProgramName(program);\n",
    "\n",
    "        /* Initialize the Python interpreter.  Required.\n",
    "           If this step fails, it will be a fatal error. */\n",
    "        Py_Initialize();\n",
    "\n",
    "        /* Optionally import the module; alternatively,\n",
    "           import can be deferred until the embedded script\n",
    "           imports it. */\n",
    "        PyObject *pmodule = PyImport_ImportModule(\"mymodule\");\n",
    "        if (!pmodule) {\n",
    "            PyErr_Print();\n",
    "            fprintf(stderr, \"Error: could not import module 'mymodule'\\n\");\n",
    "        }\n",
    "\n",
    "        PyMem_RawFree(program);\n",
    "        return 0;\n",
    "    }"
   ]
  },
  {
   "cell_type": "markdown",
   "id": "4ff2725b",
   "metadata": {},
   "source": [
    "To make the new module a permanent part of the Python interpreter, you change the configuration setup and rebuild the interpreter. Luckily, this is very simple on Unix: just place your file (spammodule.c for example) in the Modules/ directory of an unpacked source distribution, add a line to the file Modules/Setup.local describing your file:\n",
    "\n",
    "spam spammodule.o"
   ]
  }
 ],
 "metadata": {
  "kernelspec": {
   "display_name": "Python 3",
   "language": "python",
   "name": "python3"
  },
  "language_info": {
   "codemirror_mode": {
    "name": "ipython",
    "version": 3
   },
   "file_extension": ".py",
   "mimetype": "text/x-python",
   "name": "python",
   "nbconvert_exporter": "python",
   "pygments_lexer": "ipython3",
   "version": "3.8.8"
  }
 },
 "nbformat": 4,
 "nbformat_minor": 5
}
