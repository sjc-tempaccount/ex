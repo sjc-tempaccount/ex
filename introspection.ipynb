{
 "cells": [
  {
   "cell_type": "code",
   "execution_count": null,
   "id": "6e185cb8",
   "metadata": {
    "scrolled": true
   },
   "outputs": [],
   "source": [
    "dir()"
   ]
  },
  {
   "cell_type": "code",
   "execution_count": null,
   "id": "b0d7f4da",
   "metadata": {},
   "outputs": [],
   "source": [
    "eval('3+5/11')"
   ]
  },
  {
   "cell_type": "code",
   "execution_count": null,
   "id": "4d3301ee",
   "metadata": {},
   "outputs": [],
   "source": [
    "exec('a = 4')\n",
    "a"
   ]
  },
  {
   "cell_type": "code",
   "execution_count": null,
   "id": "447f832c",
   "metadata": {
    "scrolled": true
   },
   "outputs": [],
   "source": [
    "help(compile)"
   ]
  },
  {
   "cell_type": "code",
   "execution_count": null,
   "id": "80acc86c",
   "metadata": {},
   "outputs": [],
   "source": [
    "callable(len), callable(4)"
   ]
  },
  {
   "cell_type": "code",
   "execution_count": null,
   "id": "c199df4b",
   "metadata": {},
   "outputs": [],
   "source": [
    "class B():\n",
    "    \n",
    "    #_slots__ = ('a','b')\n",
    "    \n",
    "    def __init__(self):\n",
    "        self.a = 5\n",
    "        self.b = 99\n",
    "        #self.c = 7\n",
    "        \n",
    "b = B()       \n",
    "b"
   ]
  },
  {
   "cell_type": "code",
   "execution_count": null,
   "id": "1e2d98bb",
   "metadata": {},
   "outputs": [],
   "source": [
    "import sys\n",
    "sys.getsizeof(b)\n",
    "\n",
    "b.__dict__"
   ]
  },
  {
   "cell_type": "code",
   "execution_count": null,
   "id": "70fa70ad",
   "metadata": {},
   "outputs": [],
   "source": [
    "class Exc1(Exception):\n",
    "    pass\n",
    "\n",
    "def func1():\n",
    "    try:\n",
    "        open(\"some file name\")\n",
    "    except EnvironmentError as err:\n",
    "        raise Exc1(err)\n",
    "        \n",
    "import sys\n",
    "import traceback\n",
    "try:\n",
    "    func1()\n",
    "except:\n",
    "    #traceback.print_exc()\n",
    "    pass\n"
   ]
  },
  {
   "cell_type": "code",
   "execution_count": null,
   "id": "294e5cf2",
   "metadata": {
    "scrolled": true
   },
   "outputs": [],
   "source": [
    "try:\n",
    "    open(\"some file name\")\n",
    "except IOError as err:\n",
    "    tipe,val,tb = sys.exc_info()\n",
    "    print(\"Exception lineno:\", tb.tb_lineno)"
   ]
  },
  {
   "cell_type": "code",
   "execution_count": null,
   "id": "bb5303c5",
   "metadata": {
    "scrolled": true
   },
   "outputs": [],
   "source": [
    "# frame\n",
    "import sys\n",
    "sys._getframe(1) , sys._getframe(2)"
   ]
  },
  {
   "cell_type": "code",
   "execution_count": null,
   "id": "171f3c88",
   "metadata": {
    "scrolled": true
   },
   "outputs": [],
   "source": [
    "sys._current_frames()"
   ]
  },
  {
   "cell_type": "code",
   "execution_count": null,
   "id": "b6900382",
   "metadata": {},
   "outputs": [],
   "source": [
    "import inspect\n",
    "\n",
    "\n",
    "\n",
    "lineno = inspect.currentframe().f_lineno\n",
    "print(\"We were at:\", lineno)\n"
   ]
  },
  {
   "cell_type": "code",
   "execution_count": null,
   "id": "08c2b3bc",
   "metadata": {
    "scrolled": true
   },
   "outputs": [],
   "source": [
    "import inspect, re\n",
    "import glob as wildcard\n",
    "import configparser as parser\n",
    "\n",
    "for name, val in list(locals().items()):\n",
    "    if inspect.ismodule(val):\n",
    "\n",
    "        fullnm = str(val)\n",
    "        print(fullnm)\n",
    "  \n",
    "        if not '(built-in)' in fullnm:\n",
    "            m = re.search(r\"'(.+)'.*'(.+)'\", fullnm)\n",
    "            module, path = m.groups()\n",
    "            print(f\"{name:12s} maps to {path}\")\n",
    "\n",
    "            "
   ]
  },
  {
   "cell_type": "code",
   "execution_count": null,
   "id": "05c4260d",
   "metadata": {
    "scrolled": true
   },
   "outputs": [],
   "source": [
    "a = 1\n",
    "b = 0\n",
    "try:\n",
    "    x = a/b\n",
    "except:\n",
    "    import dis, sys\n",
    "    tb = sys.exc_info()[2]\n",
    "    dis.distb(tb)\n"
   ]
  },
  {
   "cell_type": "code",
   "execution_count": null,
   "id": "e2501f99",
   "metadata": {},
   "outputs": [],
   "source": [
    "from inspect import signature\n",
    "def foo(a, *, b:int, **kwargs):\n",
    "    pass\n",
    "\n",
    "sig = signature(foo)\n",
    "\n",
    "print(sig)\n",
    "\n",
    "\n",
    "print(sig.parameters['b'])\n",
    "\n",
    "\n",
    "sig.parameters['b'].annotation"
   ]
  },
  {
   "cell_type": "code",
   "execution_count": null,
   "id": "1cfc657a",
   "metadata": {},
   "outputs": [],
   "source": [
    "sig = signature(round)\n",
    "print(sig)"
   ]
  },
  {
   "cell_type": "code",
   "execution_count": null,
   "id": "a470a3ef",
   "metadata": {},
   "outputs": [],
   "source": [
    "from inspect import Parameter, Signature\n",
    "\n",
    "def create_sig(fields):\n",
    "    params = []\n",
    "    for pname in fields:\n",
    "        params.append(Parameter(pname, Parameter.POSITIONAL_OR_KEYWORD))\n",
    "    return Signature(params)\n",
    "    \n",
    "class SetStruct:\n",
    "    __signature__ = create_sig([])\n",
    "    def __init__(self, *args, **kwargs):\n",
    "        bound = self.__signature__.bind(*args, **kwargs)\n",
    "        \n",
    "        for attr_name, attr_val in bound.arguments.items():\n",
    "            setattr(self, attr_name, attr_val)\n",
    "            \n",
    "    def __str__(self):\n",
    "        lstr = []\n",
    "        for pname in self.__signature__.parameters:\n",
    "            lstr.append(str(getattr(self, pname, '')))\n",
    "        return ', '.join(lstr)\n"
   ]
  },
  {
   "cell_type": "code",
   "execution_count": null,
   "id": "c530590f",
   "metadata": {},
   "outputs": [],
   "source": [
    "\n"
   ]
  },
  {
   "cell_type": "code",
   "execution_count": 22,
   "id": "8d496706",
   "metadata": {},
   "outputs": [
    {
     "name": "stdout",
     "output_type": "stream",
     "text": [
      "def square(n):\n",
      "    return n**2\n",
      "\n",
      "def mean(data):\n",
      "    \"\"\"Return the sample arithmetic mean of data.\n",
      "\n",
      "    >>> mean([1, 2, 3, 4, 4])\n",
      "    2.8\n",
      "\n",
      "    >>> from fractions import Fraction as F\n",
      "    >>> mean([F(3, 7), F(1, 21), F(5, 3), F(1, 3)])\n",
      "    Fraction(13, 21)\n",
      "\n",
      "    >>> from decimal import Decimal as D\n",
      "    >>> mean([D(\"0.5\"), D(\"0.75\"), D(\"0.625\"), D(\"0.375\")])\n",
      "    Decimal('0.5625')\n",
      "\n",
      "    If ``data`` is empty, StatisticsError will be raised.\n",
      "    \"\"\"\n",
      "    if iter(data) is data:\n",
      "        data = list(data)\n",
      "    n = len(data)\n",
      "    if n < 1:\n",
      "        raise StatisticsError('mean requires at least one data point')\n",
      "    T, total, count = _sum(data)\n",
      "    assert count == n\n",
      "    return _convert(total/n, T)\n",
      "\n"
     ]
    }
   ],
   "source": [
    "import inspect\n",
    "import statistics\n",
    "\n",
    "def square(n):\n",
    "    return n**2\n",
    "\n",
    "print(inspect.getsource(square))\n",
    "print(inspect.getsource(statistics.mean))"
   ]
  },
  {
   "cell_type": "code",
   "execution_count": 25,
   "id": "12c891b2",
   "metadata": {},
   "outputs": [
    {
     "name": "stdout",
     "output_type": "stream",
     "text": [
      "Error\n",
      "[FrameInfo(frame=<frame at 0x000002394BB42220, file '<ipython-input-25-b143cfd430a7>', line 8, code divide>, filename='<ipython-input-25-b143cfd430a7>', lineno=3, function='divide', code_context=['        x = a/b\\n'], index=0)]\n"
     ]
    }
   ],
   "source": [
    "def divide(a,b):\n",
    "    try:\n",
    "        x = a/b\n",
    "        return x\n",
    "    except ZeroDivisionError:\n",
    "        print(\"Error\")\n",
    "        #print(inspect.currentframe())\n",
    "        print(inspect.trace(context=1))\n",
    "        # print(inspect.currentframe().f_back)\n",
    "\n",
    "divide(3,0)"
   ]
  },
  {
   "cell_type": "code",
   "execution_count": 21,
   "id": "90099f6c",
   "metadata": {},
   "outputs": [
    {
     "name": "stderr",
     "output_type": "stream",
     "text": [
      "ERROR:root:division by zero\n",
      "Traceback (most recent call last):\n",
      "  File \"<ipython-input-21-b3d32f8129b5>\", line 6, in <module>\n",
      "    print(11/0)\n",
      "ZeroDivisionError: division by zero\n"
     ]
    }
   ],
   "source": [
    "# importing the module\n",
    "import logging\n",
    "import inspect\n",
    " \n",
    "try:\n",
    "    print(11/0)\n",
    "except Exception as err:\n",
    "    logging.exception(str(err))\n",
    "    \n",
    "    #print(inspect.getframeinfo(inspect.currentframe()))"
   ]
  }
 ],
 "metadata": {
  "kernelspec": {
   "display_name": "Python 3",
   "language": "python",
   "name": "python3"
  },
  "language_info": {
   "codemirror_mode": {
    "name": "ipython",
    "version": 3
   },
   "file_extension": ".py",
   "mimetype": "text/x-python",
   "name": "python",
   "nbconvert_exporter": "python",
   "pygments_lexer": "ipython3",
   "version": "3.8.8"
  }
 },
 "nbformat": 4,
 "nbformat_minor": 5
}
