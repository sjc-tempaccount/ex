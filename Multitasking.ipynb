{
 "cells": [
  {
   "cell_type": "markdown",
   "id": "2a8b7f9b",
   "metadata": {},
   "source": [
    "Threading module or multiprocessing module (or maybe asyncio)"
   ]
  },
  {
   "cell_type": "markdown",
   "id": "3043f776",
   "metadata": {},
   "source": [
    "## Threading\n",
    "* Python threading allows you to have different parts of your program run concurrently\n",
    "* could simplify your design\n",
    "* can speed up processing\n",
    "* has dangers\n",
    "* not always effective in Python due to the GIL"
   ]
  },
  {
   "cell_type": "code",
   "execution_count": 6,
   "id": "427955b1",
   "metadata": {
    "scrolled": false
   },
   "outputs": [
    {
     "name": "stderr",
     "output_type": "stream",
     "text": [
      "2022-03-23 22:27:06,228: Starting Main Program\n",
      "2022-03-23 22:27:06,233: Created threads\n",
      "2022-03-23 22:27:06,235: Starting thread 1\n",
      "2022-03-23 22:27:06,239: Starting thread 2\n",
      "2022-03-23 22:27:06,243: Started Threads\n",
      "2022-03-23 22:27:06,245: Finished Threads\n",
      "2022-03-23 22:27:06,246: Main finished\n",
      "2022-03-23 22:27:08,249: Ending thread 1\n",
      "2022-03-23 22:27:08,252: Ending thread 2\n"
     ]
    }
   ],
   "source": [
    "import logging\n",
    "import threading\n",
    "import time\n",
    "\n",
    "def thread_function(name):\n",
    "    logging.info(f\"Starting thread {name}\")\n",
    "    time.sleep(2)\n",
    "    logging.info(f\"Ending thread {name}\")\n",
    "\n",
    "if __name__ == \"__main__\":\n",
    "    format = \"%(asctime)s: %(message)s\"\n",
    "    logging.basicConfig(format=format, level=logging.INFO) #datefmt=\"%H:%M:%S\")\n",
    "\n",
    "    logging.info(\"Starting Main Program\")\n",
    "    x1 = threading.Thread(target=thread_function, args=(1,))\n",
    "    x2 = threading.Thread(target=thread_function, args=(2,))\n",
    "    logging.info(\"Created threads\")\n",
    "    x1.start()\n",
    "    x2.start()\n",
    "    logging.info(\"Started Threads\")\n",
    "   # x1.join() # remove these?\n",
    "   # x2.join()\n",
    "    logging.info(\"Finished Threads\")\n",
    "    logging.info(\"Main finished\")\n",
    "    "
   ]
  },
  {
   "cell_type": "code",
   "execution_count": 13,
   "id": "4db4671e",
   "metadata": {},
   "outputs": [
    {
     "name": "stderr",
     "output_type": "stream",
     "text": [
      "2022-03-23 22:48:08,500: Starting Main Program\n",
      "2022-03-23 22:48:08,501: Created processes\n",
      "2022-03-23 22:48:08,514: Started processes\n",
      "2022-03-23 22:48:08,636: Finished processes\n",
      "2022-03-23 22:48:08,636: Main finished\n"
     ]
    }
   ],
   "source": [
    "import logging\n",
    "import multiprocessing as mp\n",
    "import time\n",
    "\n",
    "def fn(name):\n",
    "    logging.info(f\"Starting process {name}\")\n",
    "    time.sleep(2)\n",
    "    logging.info(f\"Ending process {name}\")\n",
    "\n",
    "if __name__ == \"__main__\":\n",
    "    format = \"%(asctime)s: %(message)s\"\n",
    "    logging.basicConfig(format=format, level=logging.INFO) #datefmt=\"%H:%M:%S\")\n",
    "\n",
    "    logging.info(\"Starting Main Program\")\n",
    "    x1 = mp.Process(target=fn, args=(1,))\n",
    "    x2 = mp.Process(target=fn, args=(2,))\n",
    "    logging.info(\"Created processes\")\n",
    "    x1.start()\n",
    "    x2.start()\n",
    "    logging.info(\"Started processes\")\n",
    "    x1.join() # remove these?\n",
    "    x2.join()\n",
    "    logging.info(\"Finished processes\")\n",
    "    logging.info(\"Main finished\")"
   ]
  },
  {
   "cell_type": "code",
   "execution_count": 11,
   "id": "4e4d7b96",
   "metadata": {},
   "outputs": [
    {
     "data": {
      "text/plain": [
       "concurrent.futures._base.Future"
      ]
     },
     "execution_count": 11,
     "metadata": {},
     "output_type": "execute_result"
    }
   ],
   "source": [
    "# deadlock from the documentation\n",
    "\n",
    "import time\n",
    "from concurrent.futures import ThreadPoolExecutor\n",
    "\n",
    "def wait_on_b():\n",
    "    time.sleep(5)\n",
    "    print(b.result())  # b will never complete because it is waiting on a.\n",
    "    return 5\n",
    "\n",
    "def wait_on_a():\n",
    "    time.sleep(5)\n",
    "    print(a.result())  # a will never complete because it is waiting on b.\n",
    "    return 6\n",
    "\n",
    "\n",
    "executor = ThreadPoolExecutor(max_workers=2)\n",
    "a = executor.submit(wait_on_b)\n",
    "b = executor.submit(wait_on_a)\n",
    "type(a)"
   ]
  }
 ],
 "metadata": {
  "kernelspec": {
   "display_name": "Python 3",
   "language": "python",
   "name": "python3"
  },
  "language_info": {
   "codemirror_mode": {
    "name": "ipython",
    "version": 3
   },
   "file_extension": ".py",
   "mimetype": "text/x-python",
   "name": "python",
   "nbconvert_exporter": "python",
   "pygments_lexer": "ipython3",
   "version": "3.8.8"
  }
 },
 "nbformat": 4,
 "nbformat_minor": 5
}
