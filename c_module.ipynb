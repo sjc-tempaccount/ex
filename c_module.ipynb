{
 "cells": [
  {
   "cell_type": "markdown",
   "id": "86680744",
   "metadata": {},
   "source": [
    "## Larger C or C++ modules ... different method from ctypes\n",
    "Documentation https://docs.python.org/3/extending/extending.html\n",
    "\n",
    "  sudo apt-get install python3-dev  # for python3.x installs\n",
    "\n",
    "* Begin by creating a file mymodule.c. \n",
    "* The first two lines of the file are\n",
    "* get the Python API \n",
    "https://github.com/python/cpython/blob/main/Include/Python.h\n",
    "(https://docs.python.org/3/c-api/arg.html#strings-and-buffers)\n",
    "\n",
    "https://svn.python.org/projects/python/trunk/Modules/xxmodule.c (example)\n",
    "\n",
    "    #define PY_SSIZE_T_CLEAN \n",
    "    #include <Python.h>"
   ]
  },
  {
   "cell_type": "markdown",
   "id": "0439bbf2",
   "metadata": {},
   "source": [
    "    static PyObject *\n",
    "    fn_system(PyObject *self, PyObject *args)\n",
    "    {\n",
    "        const char *command;\n",
    "        int sts;\n",
    "\n",
    "        if (!PyArg_ParseTuple(args, \"s\", &command))\n",
    "            return NULL;\n",
    "        sts = system(command);\n",
    "        return PyLong_FromLong(sts);\n",
    "    }\n",
    "    \n",
    "The C function always has two arguments, conventionally called self (module or object) and args (pointer to a Python tuple object containing the arguments)."
   ]
  },
  {
   "cell_type": "markdown",
   "id": "0db23140",
   "metadata": {},
   "source": [
    "The function PyArg_ParseTuple() in the Python API checks the argument types and converts them to C values. \n",
    "PyArg_ParseTuple() returns true (nonzero) if all arguments have the right type and its components have been stored in the variables whose addresses are passed. It returns false (zero) if an invalid argument list was passed, and raises an exception so the calling function can return NULL immediately .\n",
    "\n"
   ]
  },
  {
   "cell_type": "markdown",
   "id": "7d5e54a8",
   "metadata": {},
   "source": [
    "To call the function from Python we need to list its name and address in a method table:\n",
    "\n",
    "    static PyMethodDef MyMethods[] = {\n",
    "        \n",
    "        {\"system\",  fn_system, METH_VARARGS,\n",
    "         \"Execute a shell command.\"},\n",
    "        \n",
    "        {NULL, NULL, 0, NULL}        /* Sentinel */\n",
    "    };"
   ]
  },
  {
   "cell_type": "markdown",
   "id": "9aafb83b",
   "metadata": {},
   "source": [
    "The module definition structure (referring to the method table)\n",
    "\n",
    "    static struct PyModuleDef mymodule = {\n",
    "        PyModuleDef_HEAD_INIT,\n",
    "        \"mymodule\",   /* name of module */\n",
    "         my_doc, /* module documentation, may be NULL */\n",
    "        -1,       /* size of per-interpreter state of the module,\n",
    "                     or -1 if the module keeps state in global variables. */\n",
    "        MyMethods\n",
    "    };"
   ]
  },
  {
   "cell_type": "markdown",
   "id": "bb66072d",
   "metadata": {},
   "source": [
    "Module initialisation\n",
    "\n",
    "        PyMODINIT_FUNC\n",
    "        PyInit_mymodule(void)\n",
    "        {\n",
    "            return PyModule_Create(&mymodule);\n",
    "        }"
   ]
  },
  {
   "cell_type": "markdown",
   "id": "fb8eb395",
   "metadata": {},
   "source": [
    "    int main(int argc, char *argv[])\n",
    "    {\n",
    "        wchar_t *program = Py_DecodeLocale(argv[0], NULL);\n",
    "        if (program == NULL) {\n",
    "            fprintf(stderr, \"Fatal error: cannot decode argv[0]\\n\");\n",
    "            exit(1);\n",
    "        }\n",
    "\n",
    "        /* Add a built-in module, before Py_Initialize */\n",
    "        if (PyImport_AppendInittab(\"spam\", PyInit_mymodule) == -1) {\n",
    "            fprintf(stderr, \"Error: could not extend in-built modules table\\n\");\n",
    "            exit(1);\n",
    "        }\n",
    "\n",
    "        /* Pass argv[0] to the Python interpreter */\n",
    "        Py_SetProgramName(program);\n",
    "\n",
    "        /* Initialize the Python interpreter.  Required.\n",
    "           If this step fails, it will be a fatal error. */\n",
    "        Py_Initialize();\n",
    "\n",
    "        /* Optionally import the module; alternatively,\n",
    "           import can be deferred until the embedded script\n",
    "           imports it. */\n",
    "        PyObject *pmodule = PyImport_ImportModule(\"mymodule\");\n",
    "        if (!pmodule) {\n",
    "            PyErr_Print();\n",
    "            fprintf(stderr, \"Error: could not import module 'mymodule'\\n\");\n",
    "        }\n",
    "\n",
    "        PyMem_RawFree(program);\n",
    "        return 0;\n",
    "    }"
   ]
  },
  {
   "cell_type": "markdown",
   "id": "1bc896db",
   "metadata": {},
   "source": [
    "then sudo python3 setup.py install https://docs.python.org/3/extending/building.html#building\n",
    "\n",
    "\n",
    "To make the new module a permanent part of the Python interpreter, you change the configuration setup and rebuild the interpreter.On linux: just place your file (mymodule.c for example) in the Modules/ directory of an unpacked source distribution, add a line to the file Modules/Setup.local describing your file:\n",
    "\n",
    "    mymodule mymodule.o\n",
    "\n",
    "rebuild the interpreter by running make in the toplevel directory. You can also run make in the Modules/ subdirectory, but then you must first rebuild Makefile there by running ‘make Makefile’. (This is necessary each time you change the Setup file.)"
   ]
  }
 ],
 "metadata": {
  "kernelspec": {
   "display_name": "Python 3",
   "language": "python",
   "name": "python3"
  },
  "language_info": {
   "codemirror_mode": {
    "name": "ipython",
    "version": 3
   },
   "file_extension": ".py",
   "mimetype": "text/x-python",
   "name": "python",
   "nbconvert_exporter": "python",
   "pygments_lexer": "ipython3",
   "version": "3.8.8"
  }
 },
 "nbformat": 4,
 "nbformat_minor": 5
}
