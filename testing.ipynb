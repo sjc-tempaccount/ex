{
 "cells": [
  {
   "cell_type": "code",
   "execution_count": 10,
   "id": "128e9afd",
   "metadata": {
    "scrolled": true
   },
   "outputs": [
    {
     "name": "stdout",
     "output_type": "stream",
     "text": [
      "         10 function calls in 6.015 seconds\n",
      "\n",
      "   Ordered by: standard name\n",
      "\n",
      "   ncalls  tottime  percall  cumtime  percall filename:lineno(function)\n",
      "        1    0.000    0.000    6.015    6.015 <ipython-input-10-be00936a9f6c>:4(afn)\n",
      "        1    0.000    0.000    6.015    6.015 <string>:1(<module>)\n",
      "        1    0.000    0.000    6.015    6.015 {built-in method builtins.exec}\n",
      "        3    6.015    2.005    6.015    2.005 {built-in method time.sleep}\n",
      "        3    0.000    0.000    0.000    0.000 {method 'append' of 'list' objects}\n",
      "        1    0.000    0.000    0.000    0.000 {method 'disable' of '_lsprof.Profiler' objects}\n",
      "\n",
      "\n"
     ]
    }
   ],
   "source": [
    "import cProfile\n",
    "import time\n",
    "\n",
    "def afn(a,b,c):\n",
    "    results = []\n",
    "    for i in range(a):\n",
    "        time.sleep(2)\n",
    "        results.append(b*c)\n",
    "        \n",
    "cProfile.run('afn(3,4,5)')        \n",
    "    \n",
    "    \n",
    "        "
   ]
  },
  {
   "cell_type": "code",
   "execution_count": 9,
   "id": "7ce4b393",
   "metadata": {},
   "outputs": [],
   "source": [
    "import sys\n",
    "import trace\n",
    "\n",
    "# create a Trace object, telling it what to ignore, and whether to\n",
    "# do tracing or line-counting or both.\n",
    "\n",
    "# or python -m trace --trace timer.py\n",
    "tracer = trace.Trace(\n",
    "    #ignoredirs=[sys.prefix, sys.exec_prefix],\n",
    "    trace=0,\n",
    "    count=1)\n",
    "\n",
    "# run the new command using the given tracer\n",
    "tracer.run('afn(1,2,3)')\n",
    "\n",
    "\n",
    "# make a report, placing output in the current directory\n",
    "#r = tracer.results()\n",
    "#r.write_results(show_missing=True, coverdir=\".\")"
   ]
  }
 ],
 "metadata": {
  "kernelspec": {
   "display_name": "Python 3",
   "language": "python",
   "name": "python3"
  },
  "language_info": {
   "codemirror_mode": {
    "name": "ipython",
    "version": 3
   },
   "file_extension": ".py",
   "mimetype": "text/x-python",
   "name": "python",
   "nbconvert_exporter": "python",
   "pygments_lexer": "ipython3",
   "version": "3.8.8"
  }
 },
 "nbformat": 4,
 "nbformat_minor": 5
}
